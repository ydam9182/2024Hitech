{
  "nbformat": 4,
  "nbformat_minor": 0,
  "metadata": {
    "colab": {
      "provenance": [],
      "authorship_tag": "ABX9TyPLzHdmnKcQ5oyz6Q06FMDy",
      "include_colab_link": true
    },
    "kernelspec": {
      "name": "python3",
      "display_name": "Python 3"
    },
    "language_info": {
      "name": "python"
    }
  },
  "cells": [
    {
      "cell_type": "markdown",
      "metadata": {
        "id": "view-in-github",
        "colab_type": "text"
      },
      "source": [
        "<a href=\"https://colab.research.google.com/github/ydam9182/2024Hitech/blob/main/%EC%9D%B4%EB%AF%B8%EC%A7%80%EC%8A%A4%ED%81%AC%EB%9E%98%ED%95%91.ipynb\" target=\"_parent\"><img src=\"https://colab.research.google.com/assets/colab-badge.svg\" alt=\"Open In Colab\"/></a>"
      ]
    },
    {
      "cell_type": "code",
      "execution_count": 5,
      "metadata": {
        "colab": {
          "base_uri": "https://localhost:8080/"
        },
        "id": "WzUEfmtzmTV_",
        "outputId": "7df0dfe5-1370-4d8f-95e6-40036f5e780f"
      },
      "outputs": [
        {
          "output_type": "stream",
          "name": "stdout",
          "text": [
            "Collecting bing-image-downloader\n",
            "  Downloading bing_image_downloader-1.1.2-py3-none-any.whl (5.9 kB)\n",
            "Installing collected packages: bing-image-downloader\n",
            "Successfully installed bing-image-downloader-1.1.2\n"
          ]
        }
      ],
      "source": [
        "!pip install bing-image-downloader #이미지 다운로드 패키지 install"
      ]
    },
    {
      "cell_type": "code",
      "source": [
        "from bing_image_downloader import downloader #bing_image_downloader 모듈에서 downloader을 가져옴\n",
        "from pathlib import Path #pathlib 모듈에서 Path를 가져옴\n",
        "\n",
        "def download_images(keyword, num_images, file_name):\n",
        "  output_directory = \"images\" # 이미지를 저장할 폴더 이름\n",
        "\n",
        "  downloader.download(keyword, limit=num_images, output_dir=output_directory, adult_filter_off=True, force_replace=False, timeout=60)\n",
        "\n",
        "  root = Path().cwd() / output_directory #이미지 저장 폴더의 경로\n",
        "  downloaded_files = list(root.glob(\"*.*\")) # 폴더 내 모든 파일 가져오기\n",
        "  for i, file in enumerate(downloaded_files): # 다운로드된 각 파일에 대해 반복\n",
        "    extension = file.suffix # 파일 확장자\n",
        "    new_file_name = f\"{file_name}{i+2}{extension}\" #새로운 파일 이름\n",
        "    new_file_path = root / new_file_name # 새로운 파일 경로\n",
        "    file.rename(new_file_path) # 파일 이름 변경\n"
      ],
      "metadata": {
        "id": "xUtCnuf2mxDm"
      },
      "execution_count": 6,
      "outputs": []
    },
    {
      "cell_type": "code",
      "source": [
        "keyword = \"3월 멜론 차트 앨범 표지\" # 이미지 검색 키워드\n",
        "num_images = 30 # 다운로드할 이미지 수\n",
        "file_name = \"앨범표지\" # 파일 이름"
      ],
      "metadata": {
        "id": "PRbOm_bZoOEm"
      },
      "execution_count": 7,
      "outputs": []
    },
    {
      "cell_type": "code",
      "source": [
        "from google.colab import drive\n",
        "drive.mount('/content/drive') #구글 드라이브로 접근"
      ],
      "metadata": {
        "colab": {
          "base_uri": "https://localhost:8080/"
        },
        "id": "FLW57VMFogOO",
        "outputId": "0d2e3fe6-eace-4287-c376-b96d2bcb7f80"
      },
      "execution_count": 8,
      "outputs": [
        {
          "output_type": "stream",
          "name": "stdout",
          "text": [
            "Drive already mounted at /content/drive; to attempt to forcibly remount, call drive.mount(\"/content/drive\", force_remount=True).\n"
          ]
        }
      ]
    },
    {
      "cell_type": "code",
      "source": [
        "download_images(keyword, num_images, file_name) # 이미지 다운로드"
      ],
      "metadata": {
        "colab": {
          "base_uri": "https://localhost:8080/"
        },
        "id": "_97jA_VWouM-",
        "outputId": "2ff275c8-14c8-42a2-cc24-6024f63e2898"
      },
      "execution_count": 9,
      "outputs": [
        {
          "output_type": "stream",
          "name": "stdout",
          "text": [
            "[%] Downloading Images to /content/images/3월 멜론 차트 앨범 표지\n",
            "\n",
            "\n",
            "[!!]Indexing page: 1\n",
            "\n",
            "[%] Indexed 30 Images on Page 1.\n",
            "\n",
            "===============================================\n",
            "\n",
            "[%] Downloading Image #1 from https://is1-ssl.mzstatic.com/image/thumb/Purple125/v4/32/a1/7e/32a17e7b-dc7f-127a-71bc-8ada34bf8bfb/AppIcon-85-220-4-2x.png/1200x630bb.png\n",
            "[%] File Downloaded !\n",
            "\n",
            "[%] Downloading Image #2 from https://i.ytimg.com/vi/SqAvaGGhrAg/maxresdefault.jpg\n",
            "[%] File Downloaded !\n",
            "\n",
            "[%] Downloading Image #3 from https://dispatch.cdnser.be/cms-content/uploads/2023/04/15/d06927f8-2eb4-46b4-9440-3cca5b15fbc5.jpg\n",
            "[Error]Invalid image, not saving https://dispatch.cdnser.be/cms-content/uploads/2023/04/15/d06927f8-2eb4-46b4-9440-3cca5b15fbc5.jpg\n",
            "\n",
            "[!] Issue getting: https://dispatch.cdnser.be/cms-content/uploads/2023/04/15/d06927f8-2eb4-46b4-9440-3cca5b15fbc5.jpg\n",
            "[!] Error:: Invalid image, not saving https://dispatch.cdnser.be/cms-content/uploads/2023/04/15/d06927f8-2eb4-46b4-9440-3cca5b15fbc5.jpg\n",
            "\n",
            "[%] Downloading Image #3 from https://i.ytimg.com/vi/fgSXAKsq-Vo/maxresdefault.jpg\n",
            "[%] File Downloaded !\n",
            "\n",
            "[%] Downloading Image #4 from https://2.bp.blogspot.com/-hrYje62Cj3Y/WiQnK4XWw4I/AAAAAAAAE9g/pilT4Rv_JuQ95xOmA4tqv0GAXviprQMrgCLcBGAs/s1600/%25EB%25A9%259C%25EB%25A1%25A0TOP100.png\n",
            "[%] File Downloaded !\n",
            "\n",
            "[%] Downloading Image #5 from https://mblogthumb-phinf.pstatic.net/MjAyMjAxMjVfMTMg/MDAxNjQzMDM3MzYyNjgx.yfMWXNLuIUEW6MtGQsntMASEczuDmmMj6eUdPvgrPAwg.PDv6rngFYyQYlliRycfSNJwkeX-20sUDOPAElNdg6FYg.JPEG.raintaro/220123－1＿page－0001.jpg?type=w800\n",
            "[!] Issue getting: https://mblogthumb-phinf.pstatic.net/MjAyMjAxMjVfMTMg/MDAxNjQzMDM3MzYyNjgx.yfMWXNLuIUEW6MtGQsntMASEczuDmmMj6eUdPvgrPAwg.PDv6rngFYyQYlliRycfSNJwkeX-20sUDOPAElNdg6FYg.JPEG.raintaro/220123－1＿page－0001.jpg?type=w800\n",
            "[!] Error:: 'ascii' codec can't encode character '\\uff0d' in position 153: ordinal not in range(128)\n",
            "[%] Downloading Image #5 from https://i.ytimg.com/vi/lrcojfJZl0w/maxresdefault.jpg\n",
            "[%] File Downloaded !\n",
            "\n",
            "[%] Downloading Image #6 from http://cdn.ggilbo.com/news/photo/201706/376820_289740_5033.jpg\n",
            "[%] File Downloaded !\n",
            "\n",
            "[%] Downloading Image #7 from https://cdn.topstarnews.net/news/photo/202302/15066465_1069319_3849.jpg\n",
            "[%] File Downloaded !\n",
            "\n",
            "[%] Downloading Image #8 from https://i.ytimg.com/vi/GGUVkohQCB8/maxresdefault.jpg\n",
            "[%] File Downloaded !\n",
            "\n",
            "[%] Downloading Image #9 from https://kin-phinf.pstatic.net/20220405_252/1649085437956MY0eW_PNG/1649085437769.png?type=w750\n",
            "[%] File Downloaded !\n",
            "\n",
            "[%] Downloading Image #10 from https://i.pinimg.com/originals/d1/a5/e0/d1a5e00cbafb42e91d1acefcfb8e31fc.jpg\n",
            "[%] File Downloaded !\n",
            "\n",
            "[%] Downloading Image #11 from https://i.ytimg.com/vi/4oaTbXyy5q8/maxresdefault.jpg\n",
            "[%] File Downloaded !\n",
            "\n",
            "[%] Downloading Image #12 from http://cdn.ggilbo.com/news/photo/201708/396254_307460_4837.jpg\n",
            "[%] File Downloaded !\n",
            "\n",
            "[%] Downloading Image #13 from https://storage.enuri.info/pic_upload/knowbox2/201911/012349231201911294e115f34-b05f-4d54-a10e-732bd4ddbfee.jpg\n",
            "[%] File Downloaded !\n",
            "\n",
            "[%] Downloading Image #14 from https://i.ytimg.com/vi/JQgH1ZP2tIc/hqdefault.jpg\n",
            "[%] File Downloaded !\n",
            "\n",
            "[%] Downloading Image #15 from https://i.ytimg.com/vi/KHX3wEF6EX0/hqdefault.jpg\n",
            "[%] File Downloaded !\n",
            "\n",
            "[%] Downloading Image #16 from https://i.pinimg.com/originals/ab/97/22/ab97227ba83a3a4ef5fd2e8c1ac5857e.jpg\n",
            "[%] File Downloaded !\n",
            "\n",
            "[%] Downloading Image #17 from https://hiphopplaya.com/g2/data/cheditor5/2204/mania-done-20220410122018_bidgcoho.jpg\n",
            "[%] File Downloaded !\n",
            "\n",
            "[%] Downloading Image #18 from https://yt3.ggpht.com/uFDW_69QAzCiurodVRQc5AP22QwG2u2VtRe1LnLrOdovdF2jmWZIjOwTXaiCBgau1eHw9qH2_Zo=s1200\n",
            "[%] File Downloaded !\n",
            "\n",
            "[%] Downloading Image #19 from http://cdn.smartfile.co.kr/2020/11/13/d41d8cd98f00b204e9800998ecf8427e1605227889.png\n",
            "[%] File Downloaded !\n",
            "\n",
            "[%] Downloading Image #20 from https://i.pinimg.com/originals/81/fe/e0/81fee073eacea399d09b392a33ac970a.jpg\n",
            "[%] File Downloaded !\n",
            "\n",
            "[%] Downloading Image #21 from https://kin-phinf.pstatic.net/20220215_76/1644860022181rWUDR_JPEG/Screenshot_20220215-023040_My_Files.jpg?type=w750\n",
            "[%] File Downloaded !\n",
            "\n",
            "[%] Downloading Image #22 from https://i.ytimg.com/vi/UMvqgCYrtS4/hqdefault.jpg\n",
            "[%] File Downloaded !\n",
            "\n",
            "[%] Downloading Image #23 from https://cdnimg.melon.co.kr/cm2/album/images/103/96/230/10396230_20200228165333_500.jpg/melon/resize/180/quality/80/optimize\n",
            "[%] File Downloaded !\n",
            "\n",
            "[%] Downloading Image #24 from https://dc.filesbest.xyz/uploadfile/full/7e79df7178a0dbd3675efb4c3fc75cc52f12e11f.jpg\n",
            "[%] File Downloaded !\n",
            "\n",
            "[%] Downloading Image #25 from https://i.pinimg.com/originals/c9/f3/3c/c9f33c2eab80770faee194a09d70d738.jpg\n",
            "[%] File Downloaded !\n",
            "\n",
            "[%] Downloading Image #26 from http://file.nspna.com/news/2017/12/04/20171204203518_254419_1.jpg\n",
            "[!] Issue getting: http://file.nspna.com/news/2017/12/04/20171204203518_254419_1.jpg\n",
            "[!] Error:: HTTP Error 403: Forbidden\n",
            "[%] Downloading Image #26 from https://img1.daumcdn.net/thumb/R1280x0/?scode=mtistory2&amp;fname=https:%2F%2Fblog.kakaocdn.net%2Fdn%2FbhY3ua%2Fbtq0Sljajnn%2FKOvMWYucbudLtguKVt25g0%2Fimg.jpg\n",
            "[!] Issue getting: https://img1.daumcdn.net/thumb/R1280x0/?scode=mtistory2&amp;fname=https:%2F%2Fblog.kakaocdn.net%2Fdn%2FbhY3ua%2Fbtq0Sljajnn%2FKOvMWYucbudLtguKVt25g0%2Fimg.jpg\n",
            "[!] Error:: HTTP Error 403: Forbidden\n",
            "[%] Downloading Image #26 from https://image5jvqbd.fmkorea.com/files/attach/new/20180518/486616/879166363/1062567989/0a4def50a64268b7d6276ba7ffb01901.jpg\n",
            "[%] File Downloaded !\n",
            "\n",
            "\n",
            "\n",
            "[!!]Indexing page: 2\n",
            "\n",
            "[%] Indexed 35 Images on Page 2.\n",
            "\n",
            "===============================================\n",
            "\n",
            "[%] Downloading Image #27 from https://i.ytimg.com/vi/Hgr6OdOnbno/maxresdefault.jpg\n",
            "[%] File Downloaded !\n",
            "\n",
            "[%] Downloading Image #28 from https://t1.daumcdn.net/cfile/tistory/99DC0B3C5EEFEA2D19\n",
            "[%] File Downloaded !\n",
            "\n",
            "[%] Downloading Image #29 from https://i.pinimg.com/originals/03/78/4e/03784e3ca71a8149a6e96f820d9c8a73.jpg\n",
            "[%] File Downloaded !\n",
            "\n",
            "[%] Downloading Image #30 from http://iflv14.afreecatv.com/save/afreeca/station/2019/1111/14/thumb/1573450762392606_L_7.jpg\n",
            "[%] File Downloaded !\n",
            "\n",
            "\n",
            "\n",
            "[%] Done. Downloaded 30 images.\n"
          ]
        }
      ]
    },
    {
      "cell_type": "code",
      "source": [
        "# 이미지 저장 폴더 압축\n",
        "import shutil\n",
        "\n",
        "def compress_folder(folder_path, output_path):\n",
        "  shutil.make_archive(output_path, 'zip', folder_path) # images라는 폴더를 zip파일로 images라는 폴더 이름으로 저장\n",
        "\n",
        "folder_path = \"images\"\n",
        "output_path = \"images\"\n",
        "compress_folder(folder_path, output_path)"
      ],
      "metadata": {
        "id": "NfkEfw77o0IG"
      },
      "execution_count": 13,
      "outputs": []
    },
    {
      "cell_type": "code",
      "source": [],
      "metadata": {
        "id": "j6mzGlslpYLX"
      },
      "execution_count": null,
      "outputs": []
    }
  ]
}