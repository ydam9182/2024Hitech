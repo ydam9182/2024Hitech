{
  "nbformat": 4,
  "nbformat_minor": 0,
  "metadata": {
    "colab": {
      "provenance": [],
      "authorship_tag": "ABX9TyMMhTlw9fmCo25RIjrWlvVC",
      "include_colab_link": true
    },
    "kernelspec": {
      "name": "python3",
      "display_name": "Python 3"
    },
    "language_info": {
      "name": "python"
    }
  },
  "cells": [
    {
      "cell_type": "markdown",
      "metadata": {
        "id": "view-in-github",
        "colab_type": "text"
      },
      "source": [
        "<a href=\"https://colab.research.google.com/github/ydam9182/2024Hitech/blob/main/wepcrolling_logo_logo.ipynb\" target=\"_parent\"><img src=\"https://colab.research.google.com/assets/colab-badge.svg\" alt=\"Open In Colab\"/></a>"
      ]
    },
    {
      "cell_type": "code",
      "execution_count": 1,
      "metadata": {
        "colab": {
          "base_uri": "https://localhost:8080/"
        },
        "id": "WzUEfmtzmTV_",
        "outputId": "04002090-9e97-4f2d-e042-84ec138b1cda"
      },
      "outputs": [
        {
          "output_type": "stream",
          "name": "stdout",
          "text": [
            "Collecting bing-image-downloader\n",
            "  Downloading bing_image_downloader-1.1.2-py3-none-any.whl (5.9 kB)\n",
            "Installing collected packages: bing-image-downloader\n",
            "Successfully installed bing-image-downloader-1.1.2\n"
          ]
        }
      ],
      "source": [
        "!pip install bing-image-downloader #이미지 다운로드 패키지 install"
      ]
    },
    {
      "cell_type": "code",
      "source": [
        "from bing_image_downloader import downloader #bing_image_downloader 모듈에서 downloader을 가져옴\n",
        "from pathlib import Path #pathlib 모듈에서 Path를 가져옴\n",
        "\n",
        "def download_images(keyword, num_images, file_name):\n",
        "  output_directory = \"images\" # 이미지를 저장할 폴더 이름\n",
        "\n",
        "  downloader.download(keyword, limit=num_images, output_dir=output_directory, adult_filter_off=True, force_replace=False, timeout=60)\n",
        "\n",
        "  root = Path().cwd() / output_directory #이미지 저장 폴더의 경로\n",
        "  downloaded_files = list(root.glob(\"*.*\")) # 폴더 내 모든 파일 가져오기\n",
        "  for i, file in enumerate(downloaded_files): # 다운로드된 각 파일에 대해 반복\n",
        "    extension = file.suffix # 파일 확장자\n",
        "    new_file_name = f\"{file_name}{i+2}{extension}\" #새로운 파일 이름\n",
        "    new_file_path = root / new_file_name # 새로운 파일 경로\n",
        "    file.rename(new_file_path) # 파일 이름 변경\n"
      ],
      "metadata": {
        "id": "xUtCnuf2mxDm"
      },
      "execution_count": 3,
      "outputs": []
    },
    {
      "cell_type": "code",
      "source": [
        "# 이미지 검색 키워드\n",
        "keyword = \"네이버 로고\"\n",
        "#keyword = \"엘지 로고\"\n",
        "#keyword = \"삼성 로고\"\n",
        "\n",
        "num_images = 30 # 다운로드할 이미지 수\n",
        "\n",
        "# 파일 이름\n",
        "file_name = \"Naver Logo\"\n",
        "#file_name = \"LG Logo\"\n",
        "#file_name = \"Samsung Logo\""
      ],
      "metadata": {
        "id": "PRbOm_bZoOEm"
      },
      "execution_count": 14,
      "outputs": []
    },
    {
      "cell_type": "code",
      "source": [
        "from google.colab import drive\n",
        "drive.mount('/content/drive') #구글 드라이브로 접근"
      ],
      "metadata": {
        "colab": {
          "base_uri": "https://localhost:8080/"
        },
        "id": "FLW57VMFogOO",
        "outputId": "7138d2f7-337b-4870-fbce-0db35596fc8b"
      },
      "execution_count": 15,
      "outputs": [
        {
          "output_type": "stream",
          "name": "stdout",
          "text": [
            "Drive already mounted at /content/drive; to attempt to forcibly remount, call drive.mount(\"/content/drive\", force_remount=True).\n"
          ]
        }
      ]
    },
    {
      "cell_type": "code",
      "source": [
        "download_images(keyword, num_images, file_name) # 이미지 다운로드"
      ],
      "metadata": {
        "colab": {
          "base_uri": "https://localhost:8080/"
        },
        "id": "_97jA_VWouM-",
        "outputId": "c018db3b-5e97-4cab-ab37-f449c4bbab31"
      },
      "execution_count": 16,
      "outputs": [
        {
          "output_type": "stream",
          "name": "stdout",
          "text": [
            "[%] Downloading Images to /content/images/네이버 로고\n",
            "\n",
            "\n",
            "[!!]Indexing page: 1\n",
            "\n",
            "[%] Indexed 30 Images on Page 1.\n",
            "\n",
            "===============================================\n",
            "\n",
            "[%] Downloading Image #1 from https://blog.kakaocdn.net/dn/CNxUY/btqw7dnElRU/HuVZgvpT6J8n4aEYFathEk/img.jpg\n",
            "[%] File Downloaded !\n",
            "\n",
            "[%] Downloading Image #2 from https://image.rocketpunch.com/company/5466/naver_logo.png?s=400x400&amp;t=inside\n",
            "[%] File Downloaded !\n",
            "\n",
            "[%] Downloading Image #3 from https://a.ksd-i.com/a/2021-02-05/133523-896141.png\n",
            "[%] File Downloaded !\n",
            "\n",
            "[%] Downloading Image #4 from https://ppss.kr/wp-content/uploads/2015/03/naver.png\n",
            "[%] File Downloaded !\n",
            "\n",
            "[%] Downloading Image #5 from https://blog.kakaocdn.net/dn/bVRwBA/btrTP3pbb8O/y4jYh4jMCajjwxb5ZZHJUk/img.png\n",
            "[%] File Downloaded !\n",
            "\n",
            "[%] Downloading Image #6 from http://pluspng.com/img-png/naver-logo-png--1400.png\n",
            "[%] File Downloaded !\n",
            "\n",
            "[%] Downloading Image #7 from https://cdn.imweb.me/upload/S20210224f69a044be8cbf/3e3481020bbd1.jpg\n",
            "[%] File Downloaded !\n",
            "\n",
            "[%] Downloading Image #8 from https://i.pinimg.com/originals/9b/63/9c/9b639c4ac8f685ecd1ade574e5ffccc4.png\n",
            "[%] File Downloaded !\n",
            "\n",
            "[%] Downloading Image #9 from http://cfile2.uf.tistory.com/image/23732439525B5D821851A7\n",
            "[%] File Downloaded !\n",
            "\n",
            "[%] Downloading Image #10 from https://img1.daumcdn.net/thumb/R1280x0/?scode=mtistory2&amp;fname=https:%2F%2Fblog.kakaocdn.net%2Fdn%2FbgrQn9%2FbtrcKINtkD1%2FSTWKaNApbbMsn8TA09J85k%2Fimg.png\n",
            "[!] Issue getting: https://img1.daumcdn.net/thumb/R1280x0/?scode=mtistory2&amp;fname=https:%2F%2Fblog.kakaocdn.net%2Fdn%2FbgrQn9%2FbtrcKINtkD1%2FSTWKaNApbbMsn8TA09J85k%2Fimg.png\n",
            "[!] Error:: HTTP Error 403: Forbidden\n",
            "[%] Downloading Image #10 from https://img.asiatoday.co.kr/file/2020y/10m/13d/2020101301000919800059374.jpg\n",
            "[%] File Downloaded !\n",
            "\n",
            "[%] Downloading Image #11 from https://t1.daumcdn.net/cfile/tistory/99700F435C958CC705\n",
            "[%] File Downloaded !\n",
            "\n",
            "[%] Downloading Image #12 from https://littledeep.com/wp-content/uploads/2019/03/naver_logo_download_sns.png\n",
            "[%] File Downloaded !\n",
            "\n",
            "[%] Downloading Image #13 from https://wikis.krsocsci.org/images/f/f4/네이버카페_로고.png\n",
            "[!] Issue getting: https://wikis.krsocsci.org/images/f/f4/네이버카페_로고.png\n",
            "[!] Error:: 'ascii' codec can't encode characters in position 17-21: ordinal not in range(128)\n",
            "[%] Downloading Image #13 from https://logoproject.naver.com/img/logo_history.png\n",
            "[%] File Downloaded !\n",
            "\n",
            "[%] Downloading Image #14 from https://blog.kakaocdn.net/dn/myWRq/btqWU82yLBu/mpPWKM2Ldsuu69tDZUnqx0/img.png\n",
            "[%] File Downloaded !\n",
            "\n",
            "[%] Downloading Image #15 from http://wiki.hash.kr/images/thumb/8/8b/네이버TV_글자.png/300px-네이버TV_글자.png\n",
            "[!] Issue getting: http://wiki.hash.kr/images/thumb/8/8b/네이버TV_글자.png/300px-네이버TV_글자.png\n",
            "[!] Error:: 'ascii' codec can't encode characters in position 23-25: ordinal not in range(128)\n",
            "[%] Downloading Image #15 from http://cfile21.uf.tistory.com/image/271E28355221FC6A335A4B\n",
            "[!] Issue getting: http://cfile21.uf.tistory.com/image/271E28355221FC6A335A4B\n",
            "[!] Error:: HTTP Error 404: Not Found\n",
            "[%] Downloading Image #15 from https://i.pinimg.com/originals/30/43/07/304307ab17d6cb82e422033bd8b337a4.png\n",
            "[%] File Downloaded !\n",
            "\n",
            "[%] Downloading Image #16 from https://yt3.ggpht.com/a-/AAuE7mDK93cZ2YhJNM_8B6iF7uu_g3aycswq8EjlcA=s900-mo-c-c0xffffffff-rj-k-no\n",
            "[%] File Downloaded !\n",
            "\n",
            "[%] Downloading Image #17 from https://blog.hyunsub.kim/covers/naver-map.jpg\n",
            "[%] File Downloaded !\n",
            "\n",
            "[%] Downloading Image #18 from https://www.urbanbrush.net/web/wp-content/uploads/edd/2017/12/web-20171203071901062836.png\n",
            "[%] File Downloaded !\n",
            "\n",
            "[%] Downloading Image #19 from https://blogfiles.pstatic.net/20160818_33/shinill0206_14715051353818rsoP_JPEG/%B3%D7%C0̹%F6%B0˻%F6-%B9̴%CF.jpg?type=w1\n",
            "[!] Issue getting: https://blogfiles.pstatic.net/20160818_33/shinill0206_14715051353818rsoP_JPEG/%B3%D7%C0̹%F6%B0˻%F6-%B9̴%CF.jpg?type=w1\n",
            "[!] Error:: 'ascii' codec can't encode character '\\u0339' in position 62: ordinal not in range(128)\n",
            "[%] Downloading Image #19 from https://logoproject.naver.com/img/img_symbol2.gif\n",
            "[%] File Downloaded !\n",
            "\n",
            "[%] Downloading Image #20 from http://postfiles10.naver.net/20160622_201/hhtthh82_1466581510223Esbiy_PNG/%BA%ED%B7α%D7-%B7ΰ%ED-%B0%EDȭ%C1%FA.png?type=w966\n",
            "[!] Issue getting: http://postfiles10.naver.net/20160622_201/hhtthh82_1466581510223Esbiy_PNG/%BA%ED%B7α%D7-%B7ΰ%ED-%B0%EDȭ%C1%FA.png?type=w966\n",
            "[!] Error:: 'ascii' codec can't encode character '\\u03b1' in position 59: ordinal not in range(128)\n",
            "[%] Downloading Image #20 from https://i.ytimg.com/vi/BUZvWhZ_M3A/maxresdefault.jpg\n",
            "[%] File Downloaded !\n",
            "\n",
            "[%] Downloading Image #21 from https://i.ytimg.com/vi/HWn7_qJ3nTE/maxresdefault.jpg\n",
            "[%] File Downloaded !\n",
            "\n",
            "[%] Downloading Image #22 from https://blog.kakaocdn.net/dn/byC96v/btqzk7STAy7/JV1K9icjuDkxUKpJLNCYp1/img.png\n",
            "[%] File Downloaded !\n",
            "\n",
            "[%] Downloading Image #23 from https://w7.pngwing.com/pngs/234/5/png-transparent-naver-blog-design-text-rectangle-logo.png\n",
            "[%] File Downloaded !\n",
            "\n",
            "[%] Downloading Image #24 from https://blog.kakaocdn.net/dn/bgEs8S/btqWTX1NQeM/eqdvoX3PTA2RGpmkwJVVo0/img.png\n",
            "[%] File Downloaded !\n",
            "\n",
            "\n",
            "\n",
            "[!!]Indexing page: 2\n",
            "\n",
            "[%] Indexed 35 Images on Page 2.\n",
            "\n",
            "===============================================\n",
            "\n",
            "[%] Downloading Image #25 from http://mblogthumb2.phinf.naver.net/MjAxOTA2MTVfMTkw/MDAxNTYwNTk3Mjk0NTA3.iiizwT4y1HSOMJRpK-sW97TsRIDy5mLjWLpdrHzkxiAg.LDzW5bxLq_9ppytGZ0BEqTODtyhI2VkqnlV1LmaHEe8g.PNG.therisingstar/네이버아이콘.png?type=w800\n",
            "[!] Issue getting: http://mblogthumb2.phinf.naver.net/MjAxOTA2MTVfMTkw/MDAxNTYwNTk3Mjk0NTA3.iiizwT4y1HSOMJRpK-sW97TsRIDy5mLjWLpdrHzkxiAg.LDzW5bxLq_9ppytGZ0BEqTODtyhI2VkqnlV1LmaHEe8g.PNG.therisingstar/네이버아이콘.png?type=w800\n",
            "[!] Error:: 'ascii' codec can't encode characters in position 151-156: ordinal not in range(128)\n",
            "[%] Downloading Image #25 from https://www.urbanbrush.net/web/wp-content/uploads/edd/2017/11/스크린샷-2017-11-19-오후-7.09.06.png\n",
            "[!] Issue getting: https://www.urbanbrush.net/web/wp-content/uploads/edd/2017/11/스크린샷-2017-11-19-오후-7.09.06.png\n",
            "[!] Error:: 'ascii' codec can't encode characters in position 40-43: ordinal not in range(128)\n",
            "[%] Downloading Image #25 from https://kmug.co.kr/data/file/design/1846518806_vSxJq5Lf_cd08a39d7c4213379163d5197b3bcb5afd4f29c3.jpg\n",
            "[Error]Invalid image, not saving https://kmug.co.kr/data/file/design/1846518806_vSxJq5Lf_cd08a39d7c4213379163d5197b3bcb5afd4f29c3.jpg\n",
            "\n",
            "[!] Issue getting: https://kmug.co.kr/data/file/design/1846518806_vSxJq5Lf_cd08a39d7c4213379163d5197b3bcb5afd4f29c3.jpg\n",
            "[!] Error:: Invalid image, not saving https://kmug.co.kr/data/file/design/1846518806_vSxJq5Lf_cd08a39d7c4213379163d5197b3bcb5afd4f29c3.jpg\n",
            "\n",
            "[%] Downloading Image #25 from https://s1.mzstatic.com/us/r30/Purple3/v4/0e/5f/55/0e5f5576-4a6c-c5b1-5053-bae99c2825cd/mzl.ssrzeeez.png\n",
            "[%] File Downloaded !\n",
            "\n",
            "[%] Downloading Image #26 from http://image.chosun.com/sitedata/image/201507/21/2015072102832_0.jpg\n",
            "[%] File Downloaded !\n",
            "\n",
            "\n",
            "\n",
            "[!!]Indexing page: 3\n",
            "\n",
            "[%] Indexed 30 Images on Page 3.\n",
            "\n",
            "===============================================\n",
            "\n",
            "\n",
            "\n",
            "[!!]Indexing page: 4\n",
            "\n",
            "[%] Indexed 30 Images on Page 4.\n",
            "\n",
            "===============================================\n",
            "\n",
            "\n",
            "\n",
            "[!!]Indexing page: 5\n",
            "\n",
            "[%] No more images are available\n",
            "\n",
            "\n",
            "[%] Done. Downloaded 26 images.\n"
          ]
        }
      ]
    },
    {
      "cell_type": "code",
      "source": [
        "# 이미지 저장 폴더 압축\n",
        "import shutil\n",
        "\n",
        "def compress_folder(folder_path, output_path):\n",
        "  shutil.make_archive(output_path, 'zip', folder_path) # images라는 폴더를 zip파일로 images라는 폴더 이름으로 저장\n",
        "\n",
        "folder_path = \"images\"\n",
        "output_path = \"네이버로고압축\"\n",
        "#output_path = \"엘지로고압축\"\n",
        "#output_path = \"삼성로고압축\"\n",
        "compress_folder(folder_path, output_path)"
      ],
      "metadata": {
        "id": "NfkEfw77o0IG"
      },
      "execution_count": 17,
      "outputs": []
    },
    {
      "cell_type": "code",
      "source": [],
      "metadata": {
        "id": "j6mzGlslpYLX"
      },
      "execution_count": null,
      "outputs": []
    }
  ]
}