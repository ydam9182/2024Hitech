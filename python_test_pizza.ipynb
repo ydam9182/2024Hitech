{
  "nbformat": 4,
  "nbformat_minor": 0,
  "metadata": {
    "colab": {
      "provenance": [],
      "authorship_tag": "ABX9TyMIL1Zdy2S6KXZX+dOALYJ+",
      "include_colab_link": true
    },
    "kernelspec": {
      "name": "python3",
      "display_name": "Python 3"
    },
    "language_info": {
      "name": "python"
    }
  },
  "cells": [
    {
      "cell_type": "markdown",
      "metadata": {
        "id": "view-in-github",
        "colab_type": "text"
      },
      "source": [
        "<a href=\"https://colab.research.google.com/github/ydam9182/2024Hitech/blob/main/python_test_pizza.ipynb\" target=\"_parent\"><img src=\"https://colab.research.google.com/assets/colab-badge.svg\" alt=\"Open In Colab\"/></a>"
      ]
    },
    {
      "cell_type": "code",
      "execution_count": 1,
      "metadata": {
        "colab": {
          "base_uri": "https://localhost:8080/"
        },
        "id": "1Y9W2dSYHn40",
        "outputId": "36467a36-cd0f-4ce5-811c-ce773fb5ab08"
      },
      "outputs": [
        {
          "output_type": "stream",
          "name": "stdout",
          "text": [
            "파이썬 피자에 오신 것을 환영합니다!\n",
            "원하는 피자의 사이즈는 무엇입니까?(S:15,000\\/M:20,000\\/L:30,000\\) : L\n",
            "페퍼로니(+2,000\\)를 추가하시겠습니까?(Y/N) : n\n",
            "치즈(+3,000\\)를 추가하시겠습니까?(Y/N) : y\n",
            "총 금액 : 33000\n"
          ]
        }
      ],
      "source": [
        "#길게 늘여서 써보기\n",
        "print(\"파이썬 피자에 오신 것을 환영합니다!\")\n",
        "bill = 0\n",
        "\n",
        "size = input(\"원하는 피자의 사이즈는 무엇입니까?(S:15,000\\/M:20,000\\/L:30,000\\) : \").upper()\n",
        "\n",
        "if size == \"S\":\n",
        "  bill = 15000\n",
        "\n",
        "  add_p = input(\"페퍼로니(+2,000\\)를 추가하시겠습니까?(Y/N) : \").upper()\n",
        "  if add_p == \"Y\":\n",
        "    bill += 2000\n",
        "  elif add_p == \"N\":\n",
        "    bill += 0\n",
        "\n",
        "  add_c = input(\"치즈(+3,000\\)를 추가하시겠습니까?(Y/N) : \").upper()\n",
        "  if add_c == \"Y\":\n",
        "    bill += 3000\n",
        "  elif add_c == \"N\":\n",
        "    bill += 0\n",
        "elif size == \"M\" :\n",
        "  bill = 20000\n",
        "  add_p = input(\"페퍼로니(+2,000\\)를 추가하시겠습니까?(Y/N) : \").upper()\n",
        "  if add_p == \"Y\":\n",
        "    bill += 2000\n",
        "  elif add_p == \"N\":\n",
        "    bill += 0\n",
        "\n",
        "  add_c = input(\"치즈(+3,000\\)를 추가하시겠습니까?(Y/N) : \").upper()\n",
        "  if add_c == \"Y\":\n",
        "    bill += 3000\n",
        "  elif add_c == \"N\":\n",
        "    bill += 0\n",
        "elif size == \"L\" :\n",
        "  bill = 30000\n",
        "  add_p = input(\"페퍼로니(+2,000\\)를 추가하시겠습니까?(Y/N) : \").upper()\n",
        "  if add_p == \"Y\":\n",
        "    bill += 2000\n",
        "  elif add_p == \"N\":\n",
        "    bill += 0\n",
        "\n",
        "  add_c = input(\"치즈(+3,000\\)를 추가하시겠습니까?(Y/N) : \").upper()\n",
        "  if add_c == \"Y\":\n",
        "    bill += 3000\n",
        "  elif add_c == \"N\":\n",
        "    bill += 0\n",
        "\n",
        "print(f\"총 금액 : {bill}\")\n",
        "\n"
      ]
    },
    {
      "cell_type": "code",
      "source": [
        "# 객체 만들어보기\n",
        "print(\"파이썬 피자에 오신 것을 환영합니다!\")\n",
        "bill = 0\n",
        "total = 0\n",
        "\n",
        "size = input(\"원하는 피자의 사이즈는 무엇입니까?(S:15,000\\/M:20,000\\/L:30,000\\) : \").upper()\n",
        "\n",
        "def Add_p():\n",
        "  add_p = input(\"페퍼로니(+2,000\\)를 추가하시겠습니까?(Y/N) : \").upper()\n",
        "  a = 0\n",
        "  if add_p == \"Y\":\n",
        "    a = 2000\n",
        "  elif add_p == \"N\":\n",
        "    a = 0\n",
        "  else :\n",
        "    print(\"잘못입력하셨습니다.\")\n",
        "  return a # 변수를 돌려주는게 아니라 값만 돌려주는거 따라서 다시 본문으로 돌아왔을때 변수 안에 다시 넣어주어야 제대로 출력됨\n",
        "\n",
        "def Add_c():\n",
        "  add_c = input(\"치즈(+3,000\\)를 추가하시겠습니까?(Y/N) : \").upper()\n",
        "  a = 0\n",
        "  if add_c == \"Y\":\n",
        "    a = 3000\n",
        "  elif add_c == \"N\":\n",
        "    a = 0\n",
        "  else :\n",
        "    print(\"잘못입력하셨습니다.\")\n",
        "  return a\n",
        "\n",
        "if size == \"S\":\n",
        "  bill = 15000\n",
        "  total = bill + Add_p() + Add_c()\n",
        "elif size == \"M\" :\n",
        "  bill = 20000\n",
        "  total = bill + Add_p() + Add_c()\n",
        "elif size == \"L\" :\n",
        "  bill = 30000\n",
        "  total = bill + Add_p() + Add_c()\n",
        "else :\n",
        "  print(\"잘못입력하셨습니다.\")\n",
        "\n",
        "print(f\"총 금액 : {total}\")"
      ],
      "metadata": {
        "colab": {
          "base_uri": "https://localhost:8080/"
        },
        "id": "T3VeU7DnHrXt",
        "outputId": "27526fe1-2e32-4236-a3ed-66bf6fe12190"
      },
      "execution_count": 3,
      "outputs": [
        {
          "output_type": "stream",
          "name": "stdout",
          "text": [
            "파이썬 피자에 오신 것을 환영합니다!\n",
            "원하는 피자의 사이즈는 무엇입니까?(S:15,000\\/M:20,000\\/L:30,000\\) : s\n",
            "페퍼로니(+2,000\\)를 추가하시겠습니까?(Y/N) : b\n",
            "잘못입력하셨습니다.\n",
            "치즈(+3,000\\)를 추가하시겠습니까?(Y/N) : n\n",
            "총 금액 : 15000\n"
          ]
        }
      ]
    },
    {
      "cell_type": "code",
      "source": [
        "# 간단하게 만들기\n",
        "print(\"파이썬 피자에 오신 것을 환영합니다!\")\n",
        "bill = 0\n",
        "\n",
        "size = input(\"원하는 피자의 사이즈는 무엇입니까?(S:15,000\\/M:20,000\\/L:30,000\\) : \").upper()\n",
        "\n",
        "if size == \"S\":\n",
        "  bill = 15000\n",
        "elif size == \"M\" :\n",
        "  bill = 20000\n",
        "elif size == \"L\" :\n",
        "  bill = 30000\n",
        "else :\n",
        "  print(\"잘못입력하셨습니다.\")\n",
        "\n",
        "add_p = input(\"페퍼로니(+2,000\\)를 추가하시겠습니까?(Y/N) : \").upper()\n",
        "if add_p == \"Y\":\n",
        "  bill += 2000\n",
        "elif add_p == \"N\":\n",
        "  bill += 0\n",
        "else :\n",
        "  print(\"잘못입력하셨습니다.\")\n",
        "\n",
        "add_c = input(\"치즈(+3,000\\)를 추가하시겠습니까?(Y/N) : \").upper()\n",
        "if add_c == \"Y\":\n",
        "  bill += 3000\n",
        "elif add_c == \"N\":\n",
        "  bill = 0\n",
        "else :\n",
        "  print(\"잘못입력하셨습니다.\")\n",
        "\n",
        "print(f\"총 금액 : {bill}\")"
      ],
      "metadata": {
        "colab": {
          "base_uri": "https://localhost:8080/"
        },
        "id": "cFtZg9XaHxCN",
        "outputId": "8a57bbd9-5b60-4b06-a8a5-3acf9315cad1"
      },
      "execution_count": 4,
      "outputs": [
        {
          "output_type": "stream",
          "name": "stdout",
          "text": [
            "파이썬 피자에 오신 것을 환영합니다!\n",
            "원하는 피자의 사이즈는 무엇입니까?(S:15,000\\/M:20,000\\/L:30,000\\) : M\n",
            "페퍼로니(+2,000\\)를 추가하시겠습니까?(Y/N) : y\n",
            "치즈(+3,000\\)를 추가하시겠습니까?(Y/N) : y\n",
            "총 금액 : 25000\n"
          ]
        }
      ]
    }
  ]
}