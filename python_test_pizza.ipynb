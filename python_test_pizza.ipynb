{
  "nbformat": 4,
  "nbformat_minor": 0,
  "metadata": {
    "colab": {
      "provenance": [],
      "authorship_tag": "ABX9TyN3aJN+ueW2ZbabepPIHExO",
      "include_colab_link": true
    },
    "kernelspec": {
      "name": "python3",
      "display_name": "Python 3"
    },
    "language_info": {
      "name": "python"
    }
  },
  "cells": [
    {
      "cell_type": "markdown",
      "metadata": {
        "id": "view-in-github",
        "colab_type": "text"
      },
      "source": [
        "<a href=\"https://colab.research.google.com/github/ydam9182/2024Hitech/blob/main/python_test_pizza.ipynb\" target=\"_parent\"><img src=\"https://colab.research.google.com/assets/colab-badge.svg\" alt=\"Open In Colab\"/></a>"
      ]
    },
    {
      "cell_type": "code",
      "execution_count": 17,
      "metadata": {
        "colab": {
          "base_uri": "https://localhost:8080/"
        },
        "id": "S1qj3E74jp6S",
        "outputId": "6bdeb830-cb48-4f1a-942b-fc7dcafa2719"
      },
      "outputs": [
        {
          "output_type": "stream",
          "name": "stdout",
          "text": [
            "파이썬 피자에 오신 것을 환영합니다!\n",
            "원하는 피자의 사이즈는 무엇입니까?(S:15,000\\/M:20,000\\/L:30,000\\) : S\n",
            "페퍼로니(+2,000\\)를 추가하시겠습니까?(Y/N) : N\n",
            "치즈(+3,000\\)를 추가하시겠습니까?(Y/N) : N\n",
            "총 금액 : 15000\n"
          ]
        }
      ],
      "source": [
        "print(\"파이썬 피자에 오신 것을 환영합니다!\")\n",
        "bill = 0\n",
        "\n",
        "size = input(\"원하는 피자의 사이즈는 무엇입니까?(S:15,000\\/M:20,000\\/L:30,000\\) : \").upper()\n",
        "\n",
        "if size == \"S\":\n",
        "  bill = 15000\n",
        "\n",
        "  add_p = input(\"페퍼로니(+2,000\\)를 추가하시겠습니까?(Y/N) : \").upper()\n",
        "  if add_p == \"Y\":\n",
        "    bill += 2000\n",
        "  elif add_p == \"N\":\n",
        "    bill += 0\n",
        "\n",
        "  add_c = input(\"치즈(+3,000\\)를 추가하시겠습니까?(Y/N) : \").upper()\n",
        "  if add_c == \"Y\":\n",
        "    bill += 3000\n",
        "  elif add_c == \"N\":\n",
        "    bill += 0\n",
        "elif size == \"M\" :\n",
        "  bill = 20000\n",
        "  add_p = input(\"페퍼로니(+2,000\\)를 추가하시겠습니까?(Y/N) : \").upper()\n",
        "  if add_p == \"Y\":\n",
        "    bill += 2000\n",
        "  elif add_p == \"N\":\n",
        "    bill += 0\n",
        "\n",
        "  add_c = input(\"치즈(+3,000\\)를 추가하시겠습니까?(Y/N) : \").upper()\n",
        "  if add_c == \"Y\":\n",
        "    bill += 3000\n",
        "  elif add_c == \"N\":\n",
        "    bill += 0\n",
        "elif size == \"L\" :\n",
        "  bill = 30000\n",
        "  add_p = input(\"페퍼로니(+2,000\\)를 추가하시겠습니까?(Y/N) : \").upper()\n",
        "  if add_p == \"Y\":\n",
        "    bill += 2000\n",
        "  elif add_p == \"N\":\n",
        "    bill += 0\n",
        "\n",
        "  add_c = input(\"치즈(+3,000\\)를 추가하시겠습니까?(Y/N) : \").upper()\n",
        "  if add_c == \"Y\":\n",
        "    bill += 3000\n",
        "  elif add_c == \"N\":\n",
        "    bill += 0\n",
        "\n",
        "print(f\"총 금액 : {bill}\")\n",
        "\n"
      ]
    },
    {
      "cell_type": "code",
      "source": [
        "print(\"파이썬 피자에 오신 것을 환영합니다!\")\n",
        "bill = 0\n",
        "total = 0\n",
        "\n",
        "size = input(\"원하는 피자의 사이즈는 무엇입니까?(S:15,000\\/M:20,000\\/L:30,000\\) : \").upper()\n",
        "\n",
        "def Add_p():\n",
        "  add_p = input(\"페퍼로니(+2,000\\)를 추가하시겠습니까?(Y/N) : \").upper()\n",
        "  a = 0\n",
        "  if add_p == \"Y\":\n",
        "    a = 2000\n",
        "  elif add_p == \"N\":\n",
        "    a = 0\n",
        "  else :\n",
        "    print(\"잘못입력하셨습니다.\")\n",
        "  return a # 변수를 돌려주는게 아니라 값만 돌려주는거 따라서 다시 본문으로 돌아왔을때 변수 안에 다시 넣어주어야 제대로 출력됨\n",
        "\n",
        "def Add_c():\n",
        "  add_c = input(\"치즈(+3,000\\)를 추가하시겠습니까?(Y/N) : \").upper()\n",
        "  a = 0\n",
        "  if add_c == \"Y\":\n",
        "    a = 3000\n",
        "  elif add_c == \"N\":\n",
        "    a = 0\n",
        "  else :\n",
        "    print(\"잘못입력하셨습니다.\")\n",
        "  return a\n",
        "\n",
        "if size == \"S\":\n",
        "  bill = 15000\n",
        "  total = bill + Add_p() + Add_c()\n",
        "elif size == \"M\" :\n",
        "  bill = 20000\n",
        "  total = bill + Add_p() + Add_c()\n",
        "elif size == \"L\" :\n",
        "  bill = 30000\n",
        "  total = bill + Add_p() + Add_c()\n",
        "else :\n",
        "  print(\"잘못입력하셨습니다.\")\n",
        "\n",
        "print(f\"총 금액 : {total}\")"
      ],
      "metadata": {
        "colab": {
          "base_uri": "https://localhost:8080/"
        },
        "id": "aIC1nFlTmg1Y",
        "outputId": "b3d80957-7c22-4039-e3a9-3a22865037a0"
      },
      "execution_count": 37,
      "outputs": [
        {
          "output_type": "stream",
          "name": "stdout",
          "text": [
            "파이썬 피자에 오신 것을 환영합니다!\n",
            "원하는 피자의 사이즈는 무엇입니까?(S:15,000\\/M:20,000\\/L:30,000\\) : s\n",
            "페퍼로니(+2,000\\)를 추가하시겠습니까?(Y/N) : n\n",
            "치즈(+3,000\\)를 추가하시겠습니까?(Y/N) : y\n",
            "총 금액 : 18000\n"
          ]
        }
      ]
    }
  ]
}