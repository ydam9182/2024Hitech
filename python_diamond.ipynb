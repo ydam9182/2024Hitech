{
  "nbformat": 4,
  "nbformat_minor": 0,
  "metadata": {
    "colab": {
      "provenance": [],
      "authorship_tag": "ABX9TyOCvtiKArM3j0jo6F2M26nm",
      "include_colab_link": true
    },
    "kernelspec": {
      "name": "python3",
      "display_name": "Python 3"
    },
    "language_info": {
      "name": "python"
    }
  },
  "cells": [
    {
      "cell_type": "markdown",
      "metadata": {
        "id": "view-in-github",
        "colab_type": "text"
      },
      "source": [
        "<a href=\"https://colab.research.google.com/github/ydam9182/2024Hitech/blob/main/python_diamond.ipynb\" target=\"_parent\"><img src=\"https://colab.research.google.com/assets/colab-badge.svg\" alt=\"Open In Colab\"/></a>"
      ]
    },
    {
      "cell_type": "code",
      "source": [
        "msg = ''\n",
        "\n",
        "# for i in range(5, 0, -1):\n",
        "#     msg += f' '*i\n",
        "\n",
        "for i in range(0, 5+1, 1):\n",
        "    msg += f'{i}'\n",
        "    msg += f' '*(5+1-i)\n",
        "    for j in range (0, i*2+1, 1):\n",
        "      msg += f'*'\n",
        "    msg += f'\\n'\n",
        "\n",
        "lines = ''\n",
        "for i in range(0, 5+1, 1):\n",
        "  lines += f'{i}'\n",
        "  lines += f' '*(i+2)\n",
        "  for j in range(5*2-1,2*i,-1):\n",
        "    lines += f'*'\n",
        "  lines += f'\\n'\n",
        "print(msg + lines)\n"
      ],
      "metadata": {
        "colab": {
          "base_uri": "https://localhost:8080/"
        },
        "id": "D-mcmtSeEnK6",
        "outputId": "a47c5d02-946c-4b5c-bfe3-257dc6dc2828"
      },
      "execution_count": null,
      "outputs": [
        {
          "output_type": "stream",
          "name": "stdout",
          "text": [
            "0      *\n",
            "1     ***\n",
            "2    *****\n",
            "3   *******\n",
            "4  *********\n",
            "5 ***********\n",
            "0  *********\n",
            "1   *******\n",
            "2    *****\n",
            "3     ***\n",
            "4      *\n",
            "5       \n",
            "\n"
          ]
        }
      ]
    },
    {
      "cell_type": "code",
      "source": [
        "msg = ''\n",
        "\n",
        "for i in range(1, 5+1, 1):\n",
        "  msg += f'*'*i\n",
        "  msg += '\\n'\n",
        "\n",
        "print(msg)\n"
      ],
      "metadata": {
        "colab": {
          "base_uri": "https://localhost:8080/"
        },
        "id": "rwxBF1pGUJEA",
        "outputId": "f3cd17af-416e-48fe-f11d-ee9cdf58bd91"
      },
      "execution_count": 8,
      "outputs": [
        {
          "output_type": "stream",
          "name": "stdout",
          "text": [
            "*\n",
            "**\n",
            "***\n",
            "****\n",
            "*****\n",
            "\n"
          ]
        }
      ]
    },
    {
      "cell_type": "code",
      "source": [
        "# 정수 2개를 입력받아 사각형을 만들고 그 사각형의 둘레에 *을 찍으시오(크기조정을 위해 가로라인에는 공백 한 개 삽입)\n",
        "\n",
        "# 출력 예)\n",
        "# 가로 : 5\n",
        "# 세로 : 4\n",
        "# 사각형 5 * 4\n",
        "# * * * * *\n",
        "# *       *\n",
        "# *       *\n",
        "# * * * * *\n",
        "\n",
        "width = int(input('가로 : '))\n",
        "height = int(input('세로 : '))\n",
        "rectangle = ''\n",
        "\n",
        "print(f\"사각형 {width} * {height}\")\n",
        "for i in range(1, height + 1, 1):\n",
        "  for j in range(1, width+1, 1):\n",
        "    if i == 1 or i == height or j == 1 or j == width :\n",
        "      rectangle += f'* '\n",
        "    else :\n",
        "      rectangle += f'  '\n",
        "  rectangle += f'\\n'\n",
        "\n",
        "print(rectangle)"
      ],
      "metadata": {
        "colab": {
          "base_uri": "https://localhost:8080/"
        },
        "id": "3oh-BAM_x07q",
        "outputId": "ffaf7fe4-888a-4ac3-b362-d076340f97e1"
      },
      "execution_count": 24,
      "outputs": [
        {
          "output_type": "stream",
          "name": "stdout",
          "text": [
            "가로 : 5\n",
            "세로 : 5\n",
            "사각형 5 * 5\n",
            "* * * * * \n",
            "*       * \n",
            "*       * \n",
            "*       * \n",
            "* * * * * \n",
            "\n"
          ]
        }
      ]
    },
    {
      "cell_type": "code",
      "source": [
        "# 홀수 정수 2개를 입력받아 사각형을 만들고 그 사각형의 둘레에는 *을, 중심점에는 0을 찍으시오\n",
        "# 받은 정수가 짝수일 시 예외처리하고 반복하시오\n",
        "\n",
        "# 출력 예)\n",
        "# 가로 : 5\n",
        "# 세로 : 4\n",
        "# 사각형 5 * 5\n",
        "# * * * * *\n",
        "# *       *\n",
        "# *   0   *\n",
        "# *       *\n",
        "# * * * * *\n",
        "\n",
        "rectangle = ''\n",
        "\n",
        "while True :\n",
        "  width = int(input('가로 : '))\n",
        "  height = int(input('세로 : '))\n",
        "\n",
        "  if width % 2 != 0 and height % 2 != 0 :\n",
        "    if width > 1 and height > 1 :\n",
        "      print(f\"사각형 {width} * {height}\")\n",
        "      for i in range(1, height + 1, 1):\n",
        "        for j in range(1, width+1, 1):\n",
        "          if i == 1 or i == height or j == 1 or j == width :\n",
        "            rectangle += f'* '\n",
        "          elif i == ((height // 2) + 1) and j == ((width // 2) + 1):\n",
        "            rectangle += f'0 '\n",
        "          else :\n",
        "            rectangle += f'  '\n",
        "        rectangle += f'\\n'\n",
        "      break\n",
        "    else :\n",
        "      print(\"잘못된 값을 입력했습니다 -> 1 이상의 홀수 정수를 적어주세요\\n\")\n",
        "\n",
        "  else :\n",
        "    print(\"잘못된 값을 입력했습니다 -> 홀수 정수를 적어주세요\\n\")\n",
        "\n",
        "print(rectangle)"
      ],
      "metadata": {
        "colab": {
          "base_uri": "https://localhost:8080/"
        },
        "id": "VEQFnRWuzqKp",
        "outputId": "96968b60-4563-42b3-fc2a-259ca8ddab67"
      },
      "execution_count": 23,
      "outputs": [
        {
          "output_type": "stream",
          "name": "stdout",
          "text": [
            "가로 : 1\n",
            "세로 : 1\n",
            "잘못된 값을 입력했습니다 -> 1 이상의 홀수 정수를 적어주세요\n",
            "\n",
            "가로 : 3\n",
            "세로 : 4\n",
            "잘못된 값을 입력했습니다 -> 홀수 정수를 적어주세요\n",
            "\n",
            "가로 : 3\n",
            "세로 : 5\n",
            "사각형 3 * 5\n",
            "* * * \n",
            "*   * \n",
            "* 0 * \n",
            "*   * \n",
            "* * * \n",
            "\n"
          ]
        }
      ]
    },
    {
      "cell_type": "code",
      "source": [],
      "metadata": {
        "id": "XX6Wue0J3AgW"
      },
      "execution_count": null,
      "outputs": []
    },
    {
      "cell_type": "code",
      "source": [
        "# 스핑크스 놀이를 해보자!\n",
        "cnt = 3\n",
        "\n",
        "print(\"스핑크스 놀이를 해보겠어요~!(다 맞추면 성용이가 커피 쏨)\")\n",
        "print(\" 🍀룰 설명\\n  1. 한 문제당 기회는 3번\\n  2. 못 맞추면 나머지 공부뿐\\n\\n\")\n",
        "\n",
        "print(\"Q1. (몸풀기 문제)2024 인공지능SW융합학과 하이테크과정 인원은 총 몇명인가요?!\")\n",
        "print(\" 1. 7명\\n 2. 8명\\n 3. 9명\\n 4. 10명\")\n",
        "\n",
        "while True :\n",
        "  a1 = int(input(f\"- 답은?(남은 기회:{cnt}/3) \"))\n",
        "\n",
        "  if a1 == 3:\n",
        "    print(\" => 👍정답입니다! 짝짝짝👏\")\n",
        "    break\n",
        "  elif cnt == 1:\n",
        "    print(\" - 마지막 기회 소진 따흑\")\n",
        "    print(\" - 학과에 애정이 없군요,,, 실망임니다\")\n",
        "    break\n",
        "  else :\n",
        "    print(\" => 오답이에요! 다시 해봐😕\")\n",
        "    cnt -= 1\n",
        "\n",
        "\n",
        "cnt = 3\n",
        "print(\"\\n\\n  다음문제!\")\n",
        "print(\"Q2. 이 문제를 만들기 위해 사용한 함수가 아닌 것은?!\")\n",
        "print(\" 1. while\\n 2. if\\n 3. input\\n 4. random\")\n",
        "\n",
        "while True :\n",
        "  a2 = int(input(f\"답은?(남은 기회:{cnt}/3) \"))\n",
        "\n",
        "  if a2 == 4:\n",
        "    print(\" => 👍정답! 굿좝~!\")\n",
        "    break\n",
        "  elif cnt == 1:\n",
        "    print(\" - 마지막 기회 소진 따흑\")\n",
        "    print(\" - 꼭!!!! 나머지 공부 꼭 해라\")\n",
        "    break\n",
        "  else :\n",
        "    print(\" => 삐빕! 오답임미댜! Retry!\")\n",
        "    cnt -= 1\n",
        "\n",
        "\n",
        "cnt = 3\n",
        "print(\"\\n\\n  마지막 문제!\")\n",
        "print(\"Q3. C언어에는 있는 함수이지만 파이썬에는 없는 함수는(지금까지 배웠던거 중에)?!\")\n",
        "print(\" 1. do~while\\n 2. switch~case\\n 3. if\\n 4. for\")\n",
        "\n",
        "while True :\n",
        "  a3 = int(input(f\"답은?(남은 기회:{cnt}/3) \"))\n",
        "\n",
        "  if a3 == 2:\n",
        "    print(\" => 👍 예습복습을 잘 하셨군요! 상품으로 성용이가 커피를 쏩니다~!!\")\n",
        "    break\n",
        "  elif cnt == 1:\n",
        "    print(\" - 마지막 기회 소진 따흑\")\n",
        "    print(\" - 만약 누가 너를 개발자냐고 물어본다면 고개를 왼쪽으로 돌렸다가 오른쪽으로 돌리고 이걸 여러번 반복하걸아🤷‍♂️\")\n",
        "    break\n",
        "  else :\n",
        "    print(\" => 오답! 다시!\")\n",
        "    cnt -= 1"
      ],
      "metadata": {
        "colab": {
          "base_uri": "https://localhost:8080/"
        },
        "id": "4Lr6mSjB6Oqd",
        "outputId": "e47ca66b-00f4-402b-a48e-e8298ecf6627"
      },
      "execution_count": 15,
      "outputs": [
        {
          "output_type": "stream",
          "name": "stdout",
          "text": [
            "스핑크스 놀이를 해보겠어요~!(다 맞추면 성용이가 커피 쏨)\n",
            " 🍀룰 설명\n",
            "  1. 한 문제당 기회는 3번\n",
            "  2. 못 맞추면 나머지 공부뿐\n",
            "\n",
            "\n",
            "Q1. (몸풀기 문제)2024 인공지능SW융합학과 하이테크과정 인원은 총 몇명인가요?!\n",
            " 1. 7명\n",
            " 2. 8명\n",
            " 3. 9명\n",
            " 4. 10명\n",
            "- 답은?(남은 기회:3/3) 1\n",
            " => 오답이에요! 다시 해봐😕\n",
            "- 답은?(남은 기회:2/3) 1\n",
            " => 오답이에요! 다시 해봐😕\n",
            "- 답은?(남은 기회:1/3) 1\n",
            " - 마지막 기회 소진 따흑\n",
            " - 학과에 애정이 없군요,,, 실망임니다\n",
            "\n",
            "\n",
            "  다음문제!\n",
            "Q2. 이 문제를 만들기 위해 사용한 함수가 아닌 것은?!\n",
            " 1. while\n",
            " 2. if\n",
            " 3. input\n",
            " 4. random\n",
            "답은?(남은 기회:3/3) 2\n",
            " => 삐빕! 오답임미댜! Retry!\n",
            "답은?(남은 기회:2/3) 2\n",
            " => 삐빕! 오답임미댜! Retry!\n",
            "답은?(남은 기회:1/3) 2\n",
            " - 마지막 기회 소진 따흑\n",
            " - 꼭!!!! 나머지 공부 꼭 해라\n",
            "\n",
            "\n",
            "  마지막 문제!\n",
            "Q3. C언어에는 있는 함수이지만 파이썬에는 없는 함수는(지금까지 배웠던거 중에)?!\n",
            " 1. do~while\n",
            " 2. switch~case\n",
            " 3. if\n",
            " 4. for\n",
            "답은?(남은 기회:3/3) 3\n",
            " => 오답! 다시!\n",
            "답은?(남은 기회:2/3) 3\n",
            " => 오답! 다시!\n",
            "답은?(남은 기회:1/3) 3\n",
            " - 마지막 기회 소진 따흑\n",
            " - 만약 누가 너를 개발자냐고 물어본다면 고개를 왼쪽으로 돌렸다가 오른쪽으로 돌리고 이걸 여러번 반복하걸아🤷‍♂️\n"
          ]
        }
      ]
    }
  ]
}