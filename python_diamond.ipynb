{
  "nbformat": 4,
  "nbformat_minor": 0,
  "metadata": {
    "colab": {
      "provenance": [],
      "authorship_tag": "ABX9TyPG3QYu8Cw2wbPp1/jxOZkB",
      "include_colab_link": true
    },
    "kernelspec": {
      "name": "python3",
      "display_name": "Python 3"
    },
    "language_info": {
      "name": "python"
    }
  },
  "cells": [
    {
      "cell_type": "markdown",
      "metadata": {
        "id": "view-in-github",
        "colab_type": "text"
      },
      "source": [
        "<a href=\"https://colab.research.google.com/github/ydam9182/2024Hitech/blob/main/python_diamond.ipynb\" target=\"_parent\"><img src=\"https://colab.research.google.com/assets/colab-badge.svg\" alt=\"Open In Colab\"/></a>"
      ]
    },
    {
      "cell_type": "code",
      "source": [
        "msg = ''\n",
        "\n",
        "# for i in range(5, 0, -1):\n",
        "#     msg += f' '*i\n",
        "\n",
        "for i in range(0, 5+1, 1):\n",
        "    msg += f'{i}'\n",
        "    msg += f' '*(5+1-i)\n",
        "    for j in range (0, i*2+1, 1):\n",
        "      msg += f'*'\n",
        "    msg += f'\\n'\n",
        "\n",
        "lines = ''\n",
        "for i in range(0, 5+1, 1):\n",
        "  lines += f'{i}'\n",
        "  lines += f' '*(i+2)\n",
        "  for j in range(5*2-1,2*i,-1):\n",
        "    lines += f'*'\n",
        "  lines += f'\\n'\n",
        "print(msg + lines)\n"
      ],
      "metadata": {
        "colab": {
          "base_uri": "https://localhost:8080/"
        },
        "id": "D-mcmtSeEnK6",
        "outputId": "a47c5d02-946c-4b5c-bfe3-257dc6dc2828"
      },
      "execution_count": 35,
      "outputs": [
        {
          "output_type": "stream",
          "name": "stdout",
          "text": [
            "0      *\n",
            "1     ***\n",
            "2    *****\n",
            "3   *******\n",
            "4  *********\n",
            "5 ***********\n",
            "0  *********\n",
            "1   *******\n",
            "2    *****\n",
            "3     ***\n",
            "4      *\n",
            "5       \n",
            "\n"
          ]
        }
      ]
    },
    {
      "cell_type": "code",
      "source": [
        "msg = ''\n",
        "\n",
        "for i in range(1, 5, 1):\n",
        "  msg += f'*'*i\n",
        "  msg += '\\n'\n"
      ],
      "metadata": {
        "colab": {
          "base_uri": "https://localhost:8080/"
        },
        "id": "rwxBF1pGUJEA",
        "outputId": "6bbffa4b-9239-40ff-91fc-a399769f1d5e"
      },
      "execution_count": 9,
      "outputs": [
        {
          "output_type": "stream",
          "name": "stdout",
          "text": [
            "*\n",
            "**\n",
            "***\n",
            "****\n",
            "\n"
          ]
        }
      ]
    }
  ]
}