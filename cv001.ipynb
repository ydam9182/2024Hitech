{
 "cells": [
  {
   "cell_type": "code",
   "execution_count": 2,
   "metadata": {},
   "outputs": [
    {
     "name": "stdout",
     "output_type": "stream",
     "text": [
      "Requirement already satisfied: opencv-python in c:\\users\\user05\\appdata\\local\\programs\\python\\python312\\lib\\site-packages (4.9.0.80)\n",
      "Requirement already satisfied: numpy>=1.21.2 in c:\\users\\user05\\appdata\\local\\programs\\python\\python312\\lib\\site-packages (from opencv-python) (1.26.4)\n",
      "Note: you may need to restart the kernel to use updated packages.\n"
     ]
    }
   ],
   "source": [
    "pip install opencv-python"
   ]
  },
  {
   "cell_type": "code",
   "execution_count": 3,
   "metadata": {},
   "outputs": [
    {
     "data": {
      "text/plain": [
       "'4.9.0'"
      ]
     },
     "execution_count": 3,
     "metadata": {},
     "output_type": "execute_result"
    }
   ],
   "source": [
    "import cv2\n",
    "cv2.__version__"
   ]
  },
  {
   "cell_type": "markdown",
   "metadata": {},
   "source": [
    "02_이미지출력"
   ]
  },
  {
   "cell_type": "code",
   "execution_count": 9,
   "metadata": {},
   "outputs": [],
   "source": [
    "import cv2\n",
    "\n",
    "img = cv2.imread('cat-640.jpg')\n",
    "cv2.imshow('cat', img)\n",
    "cv2.waitKey(0)\n",
    "cv2.destroyAllWindows()"
   ]
  },
  {
   "cell_type": "code",
   "execution_count": 3,
   "metadata": {},
   "outputs": [],
   "source": [
    "import cv2\n",
    "img_color = cv2.imread('cat-640.jpg', cv2.IMREAD_COLOR)\n",
    "img_gray = cv2.imread('cat-640.jpg', cv2.IMREAD_GRAYSCALE)\n",
    "img_unchanged = cv2.imread('cat-640.jpg', cv2.IMREAD_UNCHANGED)\n",
    "\n",
    "cv2.imshow('img_color', img_color)\n",
    "cv2.imshow('img_gray', img_gray)\n",
    "cv2.imshow('img_unchanged', img_unchanged)\n",
    "\n",
    "cv2.waitKey(0)\n",
    "cv2.destroyAllWindows()"
   ]
  },
  {
   "cell_type": "code",
   "execution_count": 2,
   "metadata": {},
   "outputs": [],
   "source": [
    "#png로 작업하기\n",
    "import cv2\n",
    "img_color = cv2.imread('cat_png.png', cv2.IMREAD_COLOR)\n",
    "img_gray = cv2.imread('cat_png.png', cv2.IMREAD_GRAYSCALE)\n",
    "img_unchanged = cv2.imread('cat_png.png', cv2.IMREAD_UNCHANGED)\n",
    "\n",
    "cv2.imshow('img_color', img_color)\n",
    "cv2.imshow('img_gray', img_gray)\n",
    "cv2.imshow('img_unchanged', img_unchanged)\n",
    "\n",
    "cv2.waitKey(0)\n",
    "cv2.destroyAllWindows()"
   ]
  },
  {
   "cell_type": "code",
   "execution_count": 14,
   "metadata": {},
   "outputs": [
    {
     "data": {
      "text/plain": [
       "(391, 640, 3)"
      ]
     },
     "execution_count": 14,
     "metadata": {},
     "output_type": "execute_result"
    }
   ],
   "source": [
    "import cv2\n",
    "img = cv2.imread('cat-640.jpg')\n",
    "img.shape"
   ]
  },
  {
   "cell_type": "markdown",
   "metadata": {},
   "source": [
    "02. 동영상 출력"
   ]
  },
  {
   "cell_type": "code",
   "execution_count": 9,
   "metadata": {},
   "outputs": [
    {
     "name": "stdout",
     "output_type": "stream",
     "text": [
      "더 이상 가져올 프레임이 없어요\n"
     ]
    }
   ],
   "source": [
    "import cv2\n",
    "cap = cv2.VideoCapture('cat.mp4')\n",
    "\n",
    "while cap.isOpened():\n",
    "    ret, frame = cap.read()\n",
    "    if not ret:\n",
    "        print('더 이상 가져올 프레임이 없어요')\n",
    "        break\n",
    "\n",
    "    cv2.imshow('cat_video', frame)\n",
    "    \n",
    "    if cv2.waitKey(1) == ord('q'):\n",
    "        print('사용자 입력에 의해 종료합니다')\n",
    "        break\n",
    "\n",
    "cap.release()\n",
    "cv2.destroyAllWindows()"
   ]
  },
  {
   "cell_type": "code",
   "execution_count": 15,
   "metadata": {},
   "outputs": [],
   "source": [
    "import cv2\n",
    "cap = cv2.VideoCapture(0)\n",
    "\n",
    "if not cap.isOpened():\n",
    "    exit()\n",
    "\n",
    "while True:\n",
    "    ret, frame = cap.read()\n",
    "    if not ret:\n",
    "        break\n",
    "\n",
    "    cv2.imshow('camera', frame)\n",
    "    if cv2.waitKey(1) == ord('q'):\n",
    "        break\n",
    "\n",
    "cap.release()\n",
    "cv2.destroyAllWindows()"
   ]
  },
  {
   "cell_type": "markdown",
   "metadata": {},
   "source": [
    "03. 도형그리기"
   ]
  },
  {
   "cell_type": "code",
   "execution_count": 23,
   "metadata": {},
   "outputs": [
    {
     "name": "stdout",
     "output_type": "stream",
     "text": [
      "[[[  0 255   0]\n",
      "  [  0 255   0]\n",
      "  [  0 255   0]\n",
      "  ...\n",
      "  [  0 255   0]\n",
      "  [  0 255   0]\n",
      "  [  0 255   0]]\n",
      "\n",
      " [[  0 255   0]\n",
      "  [  0 255   0]\n",
      "  [  0 255   0]\n",
      "  ...\n",
      "  [  0 255   0]\n",
      "  [  0 255   0]\n",
      "  [  0 255   0]]\n",
      "\n",
      " [[  0 255   0]\n",
      "  [  0 255   0]\n",
      "  [  0 255   0]\n",
      "  ...\n",
      "  [  0 255   0]\n",
      "  [  0 255   0]\n",
      "  [  0 255   0]]\n",
      "\n",
      " ...\n",
      "\n",
      " [[  0 255   0]\n",
      "  [  0 255   0]\n",
      "  [  0 255   0]\n",
      "  ...\n",
      "  [  0 255   0]\n",
      "  [  0 255   0]\n",
      "  [  0 255   0]]\n",
      "\n",
      " [[  0 255   0]\n",
      "  [  0 255   0]\n",
      "  [  0 255   0]\n",
      "  ...\n",
      "  [  0 255   0]\n",
      "  [  0 255   0]\n",
      "  [  0 255   0]]\n",
      "\n",
      " [[  0 255   0]\n",
      "  [  0 255   0]\n",
      "  [  0 255   0]\n",
      "  ...\n",
      "  [  0 255   0]\n",
      "  [  0 255   0]\n",
      "  [  0 255   0]]]\n"
     ]
    }
   ],
   "source": [
    "import cv2\n",
    "import numpy as np\n",
    "\n",
    "img = np.zeros((480,640,3), dtype=np.uint8)\n",
    "\n",
    "img[:] = (0,255,0)\n",
    "print(img)\n",
    "\n",
    "cv2.imshow('img', img)\n",
    "cv2.waitKey(0)\n",
    "cv2.destroyAllWindows()"
   ]
  },
  {
   "cell_type": "code",
   "execution_count": 27,
   "metadata": {},
   "outputs": [],
   "source": [
    "import cv2\n",
    "import numpy as np\n",
    "\n",
    "img = np.zeros((480,640,3), dtype=np.uint8)\n",
    "img[100:200, 200:300] = (255,255,255)\n",
    "\n",
    "cv2.imshow('img', img)\n",
    "cv2.waitKey(0)\n",
    "cv2.destroyAllWindows()"
   ]
  },
  {
   "cell_type": "code",
   "execution_count": 33,
   "metadata": {},
   "outputs": [],
   "source": [
    "import cv2\n",
    "import numpy as np\n",
    "\n",
    "img = np.zeros((480,640,3), dtype=np.uint8)\n",
    "\n",
    "color = (0,255,255)\n",
    "thickness = 3\n",
    "\n",
    "cv2.line(img, (50,100), (400,50), color, thickness, cv2.LINE_8)\n",
    "cv2.line(img, (50,200), (400,150), color, thickness, cv2.LINE_4)\n",
    "cv2.line(img, (50,300), (400,250), color, thickness, cv2.LINE_AA)\n",
    "\n",
    "cv2.imshow('img', img)\n",
    "cv2.waitKey(0)\n",
    "cv2.destroyAllWindows()"
   ]
  },
  {
   "cell_type": "code",
   "execution_count": 34,
   "metadata": {},
   "outputs": [],
   "source": [
    "import cv2\n",
    "import numpy as np\n",
    "\n",
    "img = np.zeros((480,640,3), dtype=np.uint8)\n",
    "\n",
    "color = (255,255,0)\n",
    "radius = 50\n",
    "thickness = 10\n",
    "\n",
    "cv2.circle(img, (200,100), radius, color, thickness, cv2.LINE_AA)\n",
    "cv2.circle(img, (400,100), radius, color, cv2.FILLED, cv2.LINE_AA)\n",
    "\n",
    "cv2.imshow('img', img)\n",
    "cv2.waitKey(0)\n",
    "cv2.destroyAllWindows()"
   ]
  },
  {
   "cell_type": "code",
   "execution_count": 35,
   "metadata": {},
   "outputs": [],
   "source": [
    "import cv2\n",
    "import numpy as np\n",
    "\n",
    "img = np.zeros((480,640,3), dtype=np.uint8)\n",
    "\n",
    "color = (0,255,0)\n",
    "thickness = 3\n",
    "\n",
    "cv2.rectangle(img, (100,100), (200,200), color, thickness)\n",
    "cv2.rectangle(img, (300,100), (400,300), color, cv2.FILLED)\n",
    "\n",
    "cv2.imshow('img', img)\n",
    "cv2.waitKey(0)\n",
    "cv2.destroyAllWindows()"
   ]
  },
  {
   "cell_type": "code",
   "execution_count": 38,
   "metadata": {},
   "outputs": [],
   "source": [
    "import cv2\n",
    "import numpy as np\n",
    "\n",
    "img = np.zeros((480,640,3), dtype=np.uint8)\n",
    "\n",
    "color = (0,0,255)\n",
    "thickness = 3\n",
    "\n",
    "pts1= np.array([[100,100], [200,100], [100,200]])\n",
    "pts2= np.array([[200,100], [300,100], [300,200]])\n",
    "\n",
    "cv2.polylines(img, [pts1, pts2], True, color, thickness, cv2.LINE_AA)\n",
    "\n",
    "pts3= np.array([[[100,300], [200,300], [100,400]],[[200,300],[300,300],[300,400]]])\n",
    "cv2.fillPoly(img, pts3, color, cv2.LINE_AA)\n",
    "\n",
    "cv2.imshow('img', img)\n",
    "cv2.waitKey(0)\n",
    "cv2.destroyAllWindows()"
   ]
  },
  {
   "cell_type": "markdown",
   "metadata": {},
   "source": [
    "04. 텍스트"
   ]
  },
  {
   "cell_type": "code",
   "execution_count": 39,
   "metadata": {},
   "outputs": [],
   "source": [
    "import numpy as np\n",
    "import cv2\n",
    "\n",
    "img = np.zeros((480, 640, 3), dtype=np.uint8)\n",
    "\n",
    "scale = 1\n",
    "color = (255,255,255)\n",
    "thickness = 1\n",
    "\n",
    "cv2.putText(img, 'Nado simplex', (20,50), cv2.FONT_HERSHEY_SIMPLEX, scale, color, thickness)\n",
    "cv2.putText(img, 'Nado plain', (20,150), cv2.FONT_HERSHEY_PLAIN, scale, color, thickness)\n",
    "cv2.putText(img, 'Nado script simplex', (20,250), cv2.FONT_HERSHEY_SCRIPT_SIMPLEX, scale, color, thickness)\n",
    "cv2.putText(img, 'Nado Triplex', (20,350), cv2.FONT_HERSHEY_TRIPLEX, scale, color, thickness)\n",
    "cv2.putText(img, 'Nado Italic', (20,450), cv2.FONT_HERSHEY_TRIPLEX | cv2.FONT_ITALIC, scale, color, thickness)\n",
    "\n",
    "cv2.imshow('img', img)\n",
    "cv2.waitKey(0)\n",
    "cv2.destroyAllWindows()"
   ]
  },
  {
   "cell_type": "code",
   "execution_count": 40,
   "metadata": {},
   "outputs": [],
   "source": [
    "#한글 쓸때 \n",
    "\n",
    "import numpy as np\n",
    "import cv2\n",
    "\n",
    "img = np.zeros((480, 640, 3), dtype=np.uint8)\n",
    "\n",
    "SCALE = 1 # 크기\n",
    "COLOR = (255, 255, 255) # 흰색\n",
    "THICKNESS = 1 # 두께\n",
    "\n",
    "cv2.putText(img, \"나도코딩\", (20, 50), cv2.FONT_HERSHEY_SIMPLEX, SCALE, COLOR, THICKNESS)\n",
    "# 그릴 위치, 텍스트 내용, 시작 위치, 폰트 종류, 크기, 색깔, 두께\n",
    "\n",
    "cv2.imshow('img', img)\n",
    "cv2.waitKey(0)\n",
    "cv2.destroyAllWindows()"
   ]
  },
  {
   "cell_type": "code",
   "execution_count": 45,
   "metadata": {},
   "outputs": [
    {
     "ename": "ModuleNotFoundError",
     "evalue": "No module named 'PIL'",
     "output_type": "error",
     "traceback": [
      "\u001b[1;31m---------------------------------------------------------------------------\u001b[0m",
      "\u001b[1;31mModuleNotFoundError\u001b[0m                       Traceback (most recent call last)",
      "Cell \u001b[1;32mIn[45], line 5\u001b[0m\n\u001b[0;32m      2\u001b[0m \u001b[38;5;28;01mimport\u001b[39;00m \u001b[38;5;21;01mcv2\u001b[39;00m\n\u001b[0;32m      3\u001b[0m \u001b[38;5;66;03m# PIL (Python Image Library)\u001b[39;00m\n\u001b[1;32m----> 5\u001b[0m \u001b[38;5;28;01mfrom\u001b[39;00m \u001b[38;5;21;01mPIL\u001b[39;00m \u001b[38;5;28;01mimport\u001b[39;00m ImageFont, ImageDraw, Image\n\u001b[0;32m      7\u001b[0m \u001b[38;5;28;01mdef\u001b[39;00m \u001b[38;5;21mmyPutText\u001b[39m(src, text, pos, font_size, font_color):\n\u001b[0;32m      8\u001b[0m     img_pil \u001b[38;5;241m=\u001b[39m Image\u001b[38;5;241m.\u001b[39mfromarray(src)\n",
      "\u001b[1;31mModuleNotFoundError\u001b[0m: No module named 'PIL'"
     ]
    }
   ],
   "source": [
    "import numpy as np\n",
    "import cv2\n",
    "# PIL (Python Image Library)\n",
    "\n",
    "from PIL import ImageFont, ImageDraw, Image\n",
    "\n",
    "def myPutText(src, text, pos, font_size, font_color):\n",
    "    img_pil = Image.fromarray(src)\n",
    "    draw = ImageDraw.Draw(img_pil)\n",
    "    font = ImageFont.truetype('fonts/gulim.ttc', font_size)\n",
    "    draw.text(pos, text, font=font, fill=font_color)\n",
    "    return np.array(img_pil)\n",
    "\n",
    "img = np.zeros((480, 640, 3), dtype=np.uint8)\n",
    "\n",
    "FONT_SIZE = 30\n",
    "COLOR = (255, 255, 255) # 흰색\n",
    "\n",
    "# cv2.putText(img, \"나도코딩\", (20, 50), cv2.FONT_HERSHEY_SIMPLEX, SCALE, COLOR, THICKNESS)\n",
    "# 그릴 위치, 텍스트 내용, 시작 위치, 폰트 종류, 크기, 색깔, 두께\n",
    "img = myPutText(img, \"나도코딩\", (20, 50), FONT_SIZE, COLOR)\n",
    "\n",
    "cv2.imshow('img', img)\n",
    "cv2.waitKey(0)\n",
    "cv2.destroyAllWindows()"
   ]
  }
 ],
 "metadata": {
  "kernelspec": {
   "display_name": "Python 3",
   "language": "python",
   "name": "python3"
  },
  "language_info": {
   "codemirror_mode": {
    "name": "ipython",
    "version": 3
   },
   "file_extension": ".py",
   "mimetype": "text/x-python",
   "name": "python",
   "nbconvert_exporter": "python",
   "pygments_lexer": "ipython3",
   "version": "3.12.2"
  }
 },
 "nbformat": 4,
 "nbformat_minor": 2
}
