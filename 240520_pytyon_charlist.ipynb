{
  "nbformat": 4,
  "nbformat_minor": 0,
  "metadata": {
    "colab": {
      "provenance": [],
      "authorship_tag": "ABX9TyPaXW+WlgVl/XOhr2T3k3ie",
      "include_colab_link": true
    },
    "kernelspec": {
      "name": "python3",
      "display_name": "Python 3"
    },
    "language_info": {
      "name": "python"
    }
  },
  "cells": [
    {
      "cell_type": "markdown",
      "metadata": {
        "id": "view-in-github",
        "colab_type": "text"
      },
      "source": [
        "<a href=\"https://colab.research.google.com/github/ydam9182/2024Hitech/blob/main/240520_pytyon_charlist.ipynb\" target=\"_parent\"><img src=\"https://colab.research.google.com/assets/colab-badge.svg\" alt=\"Open In Colab\"/></a>"
      ]
    },
    {
      "cell_type": "code",
      "execution_count": 1,
      "metadata": {
        "colab": {
          "base_uri": "https://localhost:8080/"
        },
        "id": "XwPNRN5YN8Uu",
        "outputId": "1ccd0739-1e3e-4201-a6c1-daf2c3d5eb96"
      },
      "outputs": [
        {
          "output_type": "stream",
          "name": "stdout",
          "text": [
            "문자열들을 입력해서 보고서를 만들어보자!\n",
            "(**제목/발표자:16글자이하, 내용:13글자이하)\n",
            "제목 입력 : python report\n",
            "발표자 입력 : 박00\n",
            "1번째줄 내용 입력(남은 줄: 7개) : 가나다라마바사12\n",
            "2번째줄 내용 입력(남은 줄: 6개) : 12가나다라마바사\n",
            "3번째줄 내용 입력(남은 줄: 5개) : abcd1234\n",
            "4번째줄 내용 입력(남은 줄: 4개) : 1234abcd\n",
            "5번째줄 내용 입력(남은 줄: 3개) : 가나다라abcd\n",
            "6번째줄 내용 입력(남은 줄: 2개) : abcd가나다라\n",
            "7번째줄 내용 입력(남은 줄: 1개) : abcd dfgh\n",
            "8번째줄 내용 입력(남은 줄: 0개) : hey hey\n",
            "날짜 입력(년/월/일) : 0000/11/22\n",
            "--------------------\n",
            "|                  |\n",
            "| <Python Report>  |\n",
            "|             박00  |\n",
            "|  1. 가나다라마바사12    |\n",
            "|  2. 12가나다라마바사    |\n",
            "|  3. Abcd1234     |\n",
            "|  4. 1234abcd     |\n",
            "|  5. 가나다라abcd     |\n",
            "|  6. Abcd가나다라     |\n",
            "|  7. Abcd dfgh    |\n",
            "|  8. Hey hey      |\n",
            "|   0000년11월22일    |\n",
            "|                  |\n",
            "--------------------\n"
          ]
        }
      ],
      "source": [
        "# 파이썬으로 보고서형태 만들어보기(가로*세로 : 20*15)/ 문자열을 저장하는 리스트 = 2차원 리스트\n",
        "# 정보를 리스트 형태로 받기 = ['제목', '발표자', '내용1', '내용2', ..., '내용8', '날짜']\n",
        "# 행 1,2,14,15라인은 '-'과 공백으로 채움(양옆은 '|'로 막기)\n",
        "# 행 3라인 = 제목(가운데 정렬하고 양옆으로 '<,>' 붙이기, title() 적용)\n",
        "# 행 4라인 = 발표자(오른쪽 정렬, 오른쪽에 공백 2개 삽입)\n",
        "# 행 5~12라인 = 내용(왼쪽 정렬, 인덱싱하기, 왼쪽에 공백 2개 삽입, 영어가 들어있으면 첫번째 글자만 upper 적용)\n",
        "# 13라인은 날짜를 0000/00/00으로 받아서 0000년00월00일로 변경하여 표현\n",
        "# 사용한거 : 문자열리스트, for, title(), upper(), len(), center(), ljust(), rjust(), spilt, +*연산\n",
        "# 예시\n",
        "# --------------------\n",
        "# |                  |\n",
        "# | <Python Report>  |\n",
        "# |             박00  |\n",
        "# |  1. 가나다라마바사12    |\n",
        "# |  2. 12가나다라마바사    |\n",
        "# |  3. Abcd1234     |\n",
        "# |  4. 1234abcd     |\n",
        "# |  5. 가나다라abcd     |\n",
        "# |  6. Abcd가나다라     |\n",
        "# |  7. Abcd efgh    |\n",
        "# |  8. Hey hey      |\n",
        "# |   0000년11월22일    |\n",
        "# |                  |\n",
        "# --------------------\n",
        "\n",
        "print(\"문자열들을 입력해서 보고서를 만들어보자!\\n(**제목/발표자:16글자이하, 내용:13글자이하)\")\n",
        "\n",
        "list_report = [0 for x in range(0,11)]\n",
        "# 위 아래 공백 줄을 제외하고 제목, 발표자, 내용1~8, 날짜 총 11줄 입력\n",
        "\n",
        "for i in range(0, 11): # 요소를 모두 리스트 안에 저장\n",
        "  if i == 0 :\n",
        "    list_report[i] = input(\"제목 입력 : \")\n",
        "  elif i == 1 :\n",
        "    list_report[i] = input(\"발표자 입력 : \")\n",
        "  elif i == 10 :\n",
        "    list_report[i] = input(\"날짜 입력(년/월/일) : \")\n",
        "  else:\n",
        "    list_report[i] = input(str(i-1) + \"번째줄 내용 입력(남은 줄: \" + str(8-(i-1)) + \"개) : \")\n",
        "\n",
        "for j in range(1,15+1) : # 열을 출력할 반복문\n",
        "  if j == 1 or j == 15: # 1줄과 15줄은 '-' 처리\n",
        "    print('-'*20)\n",
        "  elif j == 2 or j == 14 : # 2줄과 14줄은 공백처리\n",
        "    print('|' + ' ' * 18 + '|')\n",
        "  elif j == 3 : # 제목 : 3라인\n",
        "    report_title = '<' + list_report[0] + '>'\n",
        "    print('|' + report_title.title().center(18) + '|')\n",
        "  elif j == 4 : # 발표자 : 4라인\n",
        "    print('|' + list_report[1].rjust(18-2) + '  |')\n",
        "  elif j >= 5 and j <= 12 : # 내용 : 5~12라인\n",
        "    f_title_list = list_report[j-3][0].upper() + list_report[j-3][1:len(list_report[j-3])]\n",
        "    # 맨 처음 글자만 대문자로 변환\n",
        "    print('|  ' + str(j-4) + '. ' + f_title_list.ljust(18-5) + '|')\n",
        "  elif j == 13 : # 날짜 : 13라인\n",
        "    date = ''\n",
        "    date_list = list_report[10].split('/')\n",
        "    date = str(date_list[0]+ '년' + date_list[1]+ '월' + date_list[2]+ '일' )\n",
        "    print('|' + date.center(18) + '|')"
      ]
    }
  ]
}